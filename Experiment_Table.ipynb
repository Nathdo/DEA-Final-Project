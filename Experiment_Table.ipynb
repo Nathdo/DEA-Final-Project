{
 "cells": [
  {
   "cell_type": "markdown",
   "metadata": {},
   "source": [
    "# Building Experiment Table"
   ]
  },
  {
   "cell_type": "code",
   "execution_count": 1,
   "metadata": {},
   "outputs": [
    {
     "name": "stdout",
     "output_type": "stream",
     "text": [
      "(160, 14)\n"
     ]
    },
    {
     "data": {
      "text/html": [
       "<div>\n",
       "<style scoped>\n",
       "    .dataframe tbody tr th:only-of-type {\n",
       "        vertical-align: middle;\n",
       "    }\n",
       "\n",
       "    .dataframe tbody tr th {\n",
       "        vertical-align: top;\n",
       "    }\n",
       "\n",
       "    .dataframe thead th {\n",
       "        text-align: right;\n",
       "    }\n",
       "</style>\n",
       "<table border=\"1\" class=\"dataframe\">\n",
       "  <thead>\n",
       "    <tr style=\"text-align: right;\">\n",
       "      <th></th>\n",
       "      <th>Institution_YearCode</th>\n",
       "      <th>Year</th>\n",
       "      <th>Students</th>\n",
       "      <th>StudentsB.S</th>\n",
       "      <th>StudentsPhd</th>\n",
       "      <th>StudentsM.S</th>\n",
       "      <th>First_Year_Students</th>\n",
       "      <th>StudentsB.S.c_Engineering</th>\n",
       "      <th>StudentsM.S.c_Engineering</th>\n",
       "      <th>StudentsP.H.D_Engineering</th>\n",
       "      <th>Number_of_Degree_Recipients</th>\n",
       "      <th>Number_of_Bachelor's_Degree_Recipients</th>\n",
       "      <th>Number_of_Master's_Degree_Recipients</th>\n",
       "      <th>Number_of_Doctorate_Degree_Recipients</th>\n",
       "    </tr>\n",
       "  </thead>\n",
       "  <tbody>\n",
       "    <tr>\n",
       "      <th>0</th>\n",
       "      <td>712023</td>\n",
       "      <td>2023</td>\n",
       "      <td>1624</td>\n",
       "      <td>1583</td>\n",
       "      <td>0</td>\n",
       "      <td>41.0</td>\n",
       "      <td>450</td>\n",
       "      <td>1535</td>\n",
       "      <td>11</td>\n",
       "      <td>0</td>\n",
       "      <td>266</td>\n",
       "      <td>229</td>\n",
       "      <td>37</td>\n",
       "      <td>0</td>\n",
       "    </tr>\n",
       "    <tr>\n",
       "      <th>1</th>\n",
       "      <td>12022</td>\n",
       "      <td>2022</td>\n",
       "      <td>21822</td>\n",
       "      <td>13573</td>\n",
       "      <td>2228</td>\n",
       "      <td>5900.0</td>\n",
       "      <td>5257</td>\n",
       "      <td>382</td>\n",
       "      <td>0</td>\n",
       "      <td>12</td>\n",
       "      <td>5972</td>\n",
       "      <td>3095</td>\n",
       "      <td>2527</td>\n",
       "      <td>290</td>\n",
       "    </tr>\n",
       "    <tr>\n",
       "      <th>2</th>\n",
       "      <td>12021</td>\n",
       "      <td>2021</td>\n",
       "      <td>21817</td>\n",
       "      <td>13212</td>\n",
       "      <td>2329</td>\n",
       "      <td>6119.0</td>\n",
       "      <td>4356</td>\n",
       "      <td>357</td>\n",
       "      <td>0</td>\n",
       "      <td>12</td>\n",
       "      <td>5458</td>\n",
       "      <td>2801</td>\n",
       "      <td>2161</td>\n",
       "      <td>383</td>\n",
       "    </tr>\n",
       "  </tbody>\n",
       "</table>\n",
       "</div>"
      ],
      "text/plain": [
       "   Institution_YearCode  Year  Students  StudentsB.S  StudentsPhd  \\\n",
       "0                712023  2023      1624         1583            0   \n",
       "1                 12022  2022     21822        13573         2228   \n",
       "2                 12021  2021     21817        13212         2329   \n",
       "\n",
       "   StudentsM.S  First_Year_Students  StudentsB.S.c_Engineering  \\\n",
       "0         41.0                  450                       1535   \n",
       "1       5900.0                 5257                        382   \n",
       "2       6119.0                 4356                        357   \n",
       "\n",
       "   StudentsM.S.c_Engineering  StudentsP.H.D_Engineering  \\\n",
       "0                         11                          0   \n",
       "1                          0                         12   \n",
       "2                          0                         12   \n",
       "\n",
       "   Number_of_Degree_Recipients  Number_of_Bachelor's_Degree_Recipients  \\\n",
       "0                          266                                     229   \n",
       "1                         5972                                    3095   \n",
       "2                         5458                                    2801   \n",
       "\n",
       "   Number_of_Master's_Degree_Recipients  Number_of_Doctorate_Degree_Recipients  \n",
       "0                                    37                                      0  \n",
       "1                                  2527                                    290  \n",
       "2                                  2161                                    383  "
      ]
     },
     "execution_count": 1,
     "metadata": {},
     "output_type": "execute_result"
    }
   ],
   "source": [
    "import pandas as pd \n",
    "import numpy as np\n",
    "from dealib import dea\n",
    "import matplotlib.pyplot as plt\n",
    "import seaborn as sns\n",
    "import warnings\n",
    "warnings.filterwarnings('ignore')\n",
    "\n",
    "data = pd.read_excel('Data.xlsx', sheet_name = 'Fact_Academy')\n",
    "data_original = data.copy()\n",
    "print(data.shape)\n",
    "data.head(3)"
   ]
  },
  {
   "cell_type": "code",
   "execution_count": 2,
   "metadata": {},
   "outputs": [],
   "source": [
    "## Prepare data for all Years\n",
    "from build import Year\n",
    "\n",
    "data_2014 = Year(data = data, year = 2014) \n",
    "data_2016 = Year(data = data, year = 2016) \n",
    "data_2021 = Year(data = data, year = 2021) \n",
    "data_2023 = Year(data = data, year = 2023) "
   ]
  },
  {
   "cell_type": "markdown",
   "metadata": {},
   "source": [
    "## Experience 1 - Student Enrollment Efficiency\n",
    "\n",
    "**Inputs :** Marketing Expenses, Administrative Staff \n",
    "\n",
    "**Outputs :** Students"
   ]
  },
  {
   "cell_type": "code",
   "execution_count": 3,
   "metadata": {},
   "outputs": [],
   "source": [
    "from build import data_expense_income, data_staff\n",
    "from experiments import Experience1\n",
    "\n",
    "# Marketing Expenses\n",
    "marketing_expenses = data_expense_income(column_name = 'Marketing_Expenses', expanse_code = 4)\n",
    "# Administratif Staff\n",
    "admin_staff = data_staff(column_name = 'Administratif_Staff', staff_code = 4)\n",
    "\n",
    "#### Institute Data\n",
    "# Institution Type\n",
    "dim_institute = pd.read_excel('Data.xlsx', sheet_name = 'Dim_Institutions_YearCode')\n",
    "# Institution Names \n",
    "institute_name = pd.read_excel('Data.xlsx', sheet_name = 'Dim_Institutions')\n",
    "institute_name = institute_name.drop(['InstitutionOpenAlex_ID'], axis = 1)\n",
    "final_institute = pd.merge(dim_institute, institute_name, on = ['Institution_Code'], how = 'inner')\n",
    "\n",
    "exp1_2014 = Experience1(data = data_2014, marketing_expenses = marketing_expenses, admin_staff = admin_staff, final_institute = final_institute)\n",
    "exp1_2016 = Experience1(data = data_2016, marketing_expenses = marketing_expenses, admin_staff = admin_staff, final_institute = final_institute)\n",
    "exp1_2021 = Experience1(data = data_2021, marketing_expenses = marketing_expenses, admin_staff = admin_staff, final_institute = final_institute)\n",
    "exp1_2023 = Experience1(data = data_2023, marketing_expenses = marketing_expenses, admin_staff = admin_staff, final_institute = final_institute)"
   ]
  },
  {
   "cell_type": "markdown",
   "metadata": {},
   "source": [
    "## Experience 2 - Research Efficiency\n",
    "\n",
    "**Inputs :** Teaching&Research_Expenses, Senior Staff\n",
    "\n",
    "**Outputs :** Publications Count, Citations Count"
   ]
  },
  {
   "cell_type": "code",
   "execution_count": 4,
   "metadata": {},
   "outputs": [],
   "source": [
    "from experiments import Experience2\n",
    "\n",
    "# Teaching and Research Expenses\n",
    "teaching_reseach_expenses = data_expense_income(column_name = 'Teaching&Research_Expenses', expanse_code = 2)\n",
    "# Senior Academic Staff\n",
    "senior_staff = data_staff(column_name = 'Senior_Staff', staff_code = 1)\n",
    "# Publications & Citations\n",
    "mention = pd.read_excel('Data.xlsx', sheet_name = 'OpenAlex_Data').drop(['InstitutionOpenAlex_ID', 'Site_code'], axis = 1)\n",
    "\n",
    "\n",
    "exp2_2014 = Experience2(data = data_2014, teaching_reseach_expenses = teaching_reseach_expenses, senior_staff = senior_staff, mention = mention,\n",
    "                        final_institute = final_institute)\n",
    "exp2_2016 = Experience2(data = data_2016, teaching_reseach_expenses = teaching_reseach_expenses, senior_staff = senior_staff, mention = mention,\n",
    "                        final_institute = final_institute)\n",
    "exp2_2021 = Experience2(data = data_2021, teaching_reseach_expenses = teaching_reseach_expenses, senior_staff = senior_staff, mention = mention,\n",
    "                        final_institute = final_institute)\n",
    "exp2_2023 = Experience2(data = data_2023, teaching_reseach_expenses = teaching_reseach_expenses, senior_staff = senior_staff, mention = mention,\n",
    "                        final_institute = final_institute)"
   ]
  },
  {
   "cell_type": "markdown",
   "metadata": {},
   "source": [
    "## Experience 3 - Financial Efficiency\n",
    "\n",
    "**Inputs :** Marketing Expenses, Administrative Staff \n",
    "\n",
    "**Outputs :** Incomes"
   ]
  },
  {
   "cell_type": "code",
   "execution_count": 5,
   "metadata": {},
   "outputs": [],
   "source": [
    "from build import data_expense_income, data_staff\n",
    "from experiments import Experience3\n",
    "\n",
    "# Marketing Expenses\n",
    "marketing_expenses = data_expense_income(column_name = 'Marketing_Expenses', expanse_code = 4)\n",
    "# Administratif Staff\n",
    "admin_staff = data_staff(column_name = 'Administratif_Staff', staff_code = 4)\n",
    "# Incomes\n",
    "income_data = data_expense_income(column_name = 'Incomes', expanse_code = 5)\n",
    "\n",
    "exp3_2014 = Experience3(data = data_2014, marketing_expenses = marketing_expenses, admin_staff = admin_staff, income_data = income_data,\n",
    "                        final_institute = final_institute)\n",
    "exp3_2016 = Experience3(data = data_2016, marketing_expenses = marketing_expenses, admin_staff = admin_staff, income_data = income_data,\n",
    "                         final_institute = final_institute)\n",
    "exp3_2021 = Experience3(data = data_2021, marketing_expenses = marketing_expenses, admin_staff = admin_staff, income_data = income_data,\n",
    "                         final_institute = final_institute)\n",
    "exp3_2023 = Experience3(data = data_2023, marketing_expenses = marketing_expenses, admin_staff = admin_staff, income_data = income_data,\n",
    "                         final_institute = final_institute)"
   ]
  },
  {
   "cell_type": "markdown",
   "metadata": {},
   "source": [
    "## Experience 4 - Global Performance Efficiency\n",
    "\n",
    "**Inputs :** Administratif_Staff, Senior Staff, Marketing Expenses\n",
    "\n",
    "**Outputs :** Students, Citations Count"
   ]
  },
  {
   "cell_type": "code",
   "execution_count": 6,
   "metadata": {},
   "outputs": [],
   "source": [
    "from experiments import Experience4\n",
    "\n",
    "exp4_2014 = Experience4(data = data_2014, marketing_expenses = marketing_expenses, admin_staff = admin_staff, senior_staff = senior_staff, \n",
    "                        mention = mention, final_institute = final_institute)\n",
    "exp4_2016 = Experience4(data = data_2016, marketing_expenses = marketing_expenses, admin_staff = admin_staff, senior_staff = senior_staff, \n",
    "                        mention = mention, final_institute = final_institute)\n",
    "exp4_2021 = Experience4(data = data_2021, marketing_expenses = marketing_expenses, admin_staff = admin_staff, senior_staff = senior_staff, \n",
    "                        mention = mention, final_institute = final_institute)\n",
    "exp4_2023 = Experience4(data = data_2023, marketing_expenses = marketing_expenses, admin_staff = admin_staff, senior_staff = senior_staff, \n",
    "                        mention = mention, final_institute = final_institute)"
   ]
  },
  {
   "cell_type": "markdown",
   "metadata": {},
   "source": [
    "## Experience 5 -  Infrastructure Efficiency\n",
    "\n",
    "**Inputs :** Gross_area, Administrative Staff\n",
    "\n",
    "**Outputs :** Students, Publications Count\n",
    "\n",
    "This setup aims to evaluate how efficiently the physical space is used to support academic results. A large area is only useful if it helps bring in more students or improves research (through labs, libraries, etc.).\n"
   ]
  },
  {
   "cell_type": "code",
   "execution_count": 7,
   "metadata": {},
   "outputs": [],
   "source": [
    "from experiments import Experience5\n",
    "\n",
    "### Shetah Data\n",
    "shetah = pd.read_excel('Data.xlsx', sheet_name = 'Gross_Area')\n",
    "\n",
    "exp5_2014 = Experience5(data = data_2014, shetah = shetah, mention = mention, final_institute = final_institute)\n",
    "exp5_2016 = Experience5(data = data_2016, shetah = shetah, mention = mention, final_institute = final_institute)\n",
    "exp5_2021 = Experience5(data = data_2021, shetah = shetah, mention = mention, final_institute = final_institute)\n",
    "exp5_2023 = Experience5(data = data_2023, shetah = shetah, mention = mention, final_institute = final_institute)"
   ]
  }
 ],
 "metadata": {
  "kernelspec": {
   "display_name": "DEA",
   "language": "python",
   "name": "python3"
  },
  "language_info": {
   "codemirror_mode": {
    "name": "ipython",
    "version": 3
   },
   "file_extension": ".py",
   "mimetype": "text/x-python",
   "name": "python",
   "nbconvert_exporter": "python",
   "pygments_lexer": "ipython3",
   "version": "3.9.6"
  }
 },
 "nbformat": 4,
 "nbformat_minor": 2
}
